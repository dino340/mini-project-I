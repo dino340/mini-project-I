{
 "cells": [
  {
   "cell_type": "markdown",
   "metadata": {},
   "source": [
    "## Movies\n",
    "In this part of mini-project, we need to have our API-KEY ready because this API won't work without it.\n",
    "\n",
    "We encourage you to look for correct endpoints in [the documentation](https://developers.themoviedb.org/3/account). We can also play around with requests there before copying them to Python."
   ]
  },
  {
   "cell_type": "code",
   "execution_count": 1,
   "metadata": {},
   "outputs": [],
   "source": [
    "import os\n",
    "import requests as re\n",
    "import json\n",
    "from IPython.display import JSON"
   ]
  },
  {
   "cell_type": "markdown",
   "metadata": {},
   "source": [
    "## Demo"
   ]
  },
  {
   "cell_type": "code",
   "execution_count": 2,
   "metadata": {},
   "outputs": [],
   "source": [
    "def TMDBsearch(searchstring, searchtype):\n",
    "    base = \"https://api.themoviedb.org/3\"\n",
    "    url = f\"/search/{searchtype}\" #search types can be movie, person, tv\n",
    "\n",
    "    query = searchstring\n",
    "    api_key = os.environ[\"TMDB_API_KEY\"]\n",
    "    params = f'?query={query}&api_key={api_key}' \n",
    "    res = re.get(base+url+params)\n",
    "    print(f'Request status: {res.status_code}')\n",
    "    response = res.json()\n",
    "    movieid = response['results'][0]['id']\n",
    "    url2 = f'/{searchtype}/{movieid}?api_key={api_key}'\n",
    "    res2 = re.get(base+url2)\n",
    "    \n",
    "    return res2.json()\n"
   ]
  },
  {
   "cell_type": "code",
   "execution_count": 3,
   "metadata": {},
   "outputs": [
    {
     "name": "stdout",
     "output_type": "stream",
     "text": [
      "Request status: 200\n"
     ]
    }
   ],
   "source": [
    "titanic = TMDBsearch('titanic', 'movie')"
   ]
  },
  {
   "cell_type": "code",
   "execution_count": 4,
   "metadata": {},
   "outputs": [
    {
     "data": {
      "application/json": {
       "adult": false,
       "backdrop_path": "/6VmFqApQRyZZzmiGOQq2C92jyvH.jpg",
       "belongs_to_collection": null,
       "budget": 200000000,
       "genres": [
        {
         "id": 18,
         "name": "Drama"
        },
        {
         "id": 10749,
         "name": "Romance"
        }
       ],
       "homepage": "",
       "id": 597,
       "imdb_id": "tt0120338",
       "original_language": "en",
       "original_title": "Titanic",
       "overview": "101-year-old Rose DeWitt Bukater tells the story of her life aboard the Titanic, 84 years later. A young Rose boards the ship with her mother and fiancé. Meanwhile, Jack Dawson and Fabrizio De Rossi win third-class tickets aboard the ship. Rose tells the whole story from Titanic's departure through to its death—on its first and last voyage—on April 15, 1912.",
       "popularity": 90.605,
       "poster_path": "/9xjZS2rlVxm8SFx8kPC3aIGCOYQ.jpg",
       "production_companies": [
        {
         "id": 4,
         "logo_path": "/fycMZt242LVjagMByZOLUGbCvv3.png",
         "name": "Paramount",
         "origin_country": "US"
        },
        {
         "id": 574,
         "logo_path": "/iB6GjNVHs5hOqcEYt2rcjBqIjki.png",
         "name": "Lightstorm Entertainment",
         "origin_country": "US"
        },
        {
         "id": 25,
         "logo_path": "/qZCc1lty5FzX30aOCVRBLzaVmcp.png",
         "name": "20th Century Fox",
         "origin_country": "US"
        }
       ],
       "production_countries": [
        {
         "iso_3166_1": "US",
         "name": "United States of America"
        }
       ],
       "release_date": "1997-11-18",
       "revenue": 2187463944,
       "runtime": 194,
       "spoken_languages": [
        {
         "english_name": "English",
         "iso_639_1": "en",
         "name": "English"
        },
        {
         "english_name": "French",
         "iso_639_1": "fr",
         "name": "Français"
        },
        {
         "english_name": "German",
         "iso_639_1": "de",
         "name": "Deutsch"
        },
        {
         "english_name": "Swedish",
         "iso_639_1": "sv",
         "name": "svenska"
        },
        {
         "english_name": "Italian",
         "iso_639_1": "it",
         "name": "Italiano"
        },
        {
         "english_name": "Russian",
         "iso_639_1": "ru",
         "name": "Pусский"
        }
       ],
       "status": "Released",
       "tagline": "Nothing on Earth could come between them.",
       "title": "Titanic",
       "video": false,
       "vote_average": 7.9,
       "vote_count": 19472
      },
      "text/plain": [
       "<IPython.core.display.JSON object>"
      ]
     },
     "execution_count": 4,
     "metadata": {
      "application/json": {
       "expanded": false,
       "root": "root"
      }
     },
     "output_type": "execute_result"
    }
   ],
   "source": [
    "JSON(titanic)"
   ]
  },
  {
   "cell_type": "code",
   "execution_count": null,
   "metadata": {},
   "outputs": [],
   "source": []
  },
  {
   "cell_type": "code",
   "execution_count": null,
   "metadata": {},
   "outputs": [],
   "source": []
  },
  {
   "cell_type": "markdown",
   "metadata": {},
   "source": [
    "## Task\n",
    "Search for you favorite movie and return the information about the movie:\n",
    "- name\n",
    "- release date\n",
    "- runtime\n",
    "- revenue\n",
    "- length of the overview\n",
    "- number of votes\n",
    "- voting average"
   ]
  },
  {
   "cell_type": "code",
   "execution_count": 5,
   "metadata": {},
   "outputs": [
    {
     "name": "stdout",
     "output_type": "stream",
     "text": [
      "Request status: 200\n"
     ]
    }
   ],
   "source": [
    "fav_movie = TMDBsearch('Pacific Rim', 'movie')"
   ]
  },
  {
   "cell_type": "code",
   "execution_count": 6,
   "metadata": {},
   "outputs": [
    {
     "data": {
      "application/json": {
       "adult": false,
       "backdrop_path": "/ig7qUy7drkEFZNCK7gi0hMn1WMN.jpg",
       "belongs_to_collection": {
        "backdrop_path": "/kiIqPO6IlGnwLmg5is5HS3lM62c.jpg",
        "id": 363369,
        "name": "Pacific Rim Collection",
        "poster_path": "/mirLNoHhkBKRZMgpCSoQS33PFkm.jpg"
       },
       "budget": 180000000,
       "genres": [
        {
         "id": 28,
         "name": "Action"
        },
        {
         "id": 878,
         "name": "Science Fiction"
        },
        {
         "id": 12,
         "name": "Adventure"
        }
       ],
       "homepage": "https://www.warnerbros.com/movies/pacific-rim",
       "id": 68726,
       "imdb_id": "tt1663662",
       "original_language": "en",
       "original_title": "Pacific Rim",
       "overview": "A ragtag band of humans band together in the year 2025 to fight legions of monstrous creatures rising from the sea. Using massive piloted robots to combat the alien threat, earth's survivors take the fight to the invading alien force lurking in the depths of the Pacific Ocean. Nearly defenseless in the face of the relentless enemy, the forces of mankind have no choice but to turn to two unlikely heroes -- a washed up former pilot and an untested trainee -- who now stand as earth's final hope against the mounting apocalypse.",
       "popularity": 59.741,
       "poster_path": "/mmznhaQDwlHWpUwKuNxtQiubbmM.jpg",
       "production_companies": [
        {
         "id": 101082,
         "logo_path": null,
         "name": "Double Dare You Productions",
         "origin_country": "US"
        },
        {
         "id": 923,
         "logo_path": "/5UQsZrfbfG2dYJbx8DxfoTr2Bvu.png",
         "name": "Legendary Pictures",
         "origin_country": "US"
        },
        {
         "id": 174,
         "logo_path": "/IuAlhI9eVC9Z8UQWOIDdWRKSEJ.png",
         "name": "Warner Bros. Pictures",
         "origin_country": "US"
        }
       ],
       "production_countries": [
        {
         "iso_3166_1": "US",
         "name": "United States of America"
        }
       ],
       "release_date": "2013-07-11",
       "revenue": 407602906,
       "runtime": 131,
       "spoken_languages": [
        {
         "english_name": "English",
         "iso_639_1": "en",
         "name": "English"
        }
       ],
       "status": "Released",
       "tagline": "To Fight Monsters, We Created Monsters",
       "title": "Pacific Rim",
       "video": false,
       "vote_average": 6.8,
       "vote_count": 9845
      },
      "text/plain": [
       "<IPython.core.display.JSON object>"
      ]
     },
     "execution_count": 6,
     "metadata": {
      "application/json": {
       "expanded": false,
       "root": "root"
      }
     },
     "output_type": "execute_result"
    }
   ],
   "source": [
    "JSON(fav_movie)"
   ]
  },
  {
   "cell_type": "code",
   "execution_count": 7,
   "metadata": {},
   "outputs": [],
   "source": [
    "name = fav_movie['title']\n",
    "releaseDate = fav_movie['release_date']\n",
    "runtime = fav_movie['runtime']\n",
    "revenue = fav_movie['revenue']\n",
    "overview = fav_movie['overview']\n",
    "numVotes = fav_movie['vote_count']\n",
    "avgVotes = fav_movie['vote_average']"
   ]
  },
  {
   "cell_type": "code",
   "execution_count": 8,
   "metadata": {},
   "outputs": [
    {
     "name": "stdout",
     "output_type": "stream",
     "text": [
      "Name: Pacific Rim\n",
      "Release Date: 2013-07-11\n",
      "Runtime: 131\n",
      "Overview length: 529 characters, 93 words\n",
      "Number of votes: 9845\n",
      "Average vote: 6.8\n"
     ]
    }
   ],
   "source": [
    "print(f'Name: {name}')\n",
    "print(f'Release Date: {releaseDate}')\n",
    "print(f'Runtime: {runtime} minutes')\n",
    "print(f'Overview length: {len(overview)} characters, {len(overview.split())} words')\n",
    "print(f'Number of votes: {numVotes}')\n",
    "print(f'Average vote: {avgVotes}')"
   ]
  },
  {
   "cell_type": "markdown",
   "metadata": {},
   "source": [
    "## Task\n",
    "Search for you favorite actor/actress and return the information about him/her:\n",
    "- name\n",
    "- date of birth\n",
    "- place of birth\n",
    "- length of the biography"
   ]
  },
  {
   "cell_type": "code",
   "execution_count": 9,
   "metadata": {},
   "outputs": [
    {
     "name": "stdout",
     "output_type": "stream",
     "text": [
      "Request status: 200\n"
     ]
    }
   ],
   "source": [
    "fav_actor = TMDBsearch('Alan Rickman', 'person')"
   ]
  },
  {
   "cell_type": "code",
   "execution_count": 10,
   "metadata": {},
   "outputs": [
    {
     "data": {
      "application/json": {
       "adult": false,
       "also_known_as": [
        "ألان ريكمان",
        "앨런 릭먼",
        "Алан Рикман",
        "アラン・リックマン",
        "แอลัน ริกแมน",
        "艾倫·瑞克曼",
        "Άλαν Ρίκμαν",
        "Alan Sidney Patrick Rickman",
        "Άλαν Σίντνεϊ Πάτρικ Ρίκμαν"
       ],
       "biography": "Alan Sidney Patrick Rickman (21 February 1946-14 January 2016) was an English actor and theatre director. He was a renowned stage actor in modern and classical productions and a former member of the Royal Shakespeare Company. Rickman was known for his film performances as Hans Gruber in Die Hard, Severus Snape in the Harry Potter film series, Eamon de Valera in Michael Collins, and Metatron in Dogma. He was also known for his prominent roles as the Sheriff of Nottingham in the 1991 film, Robin Hood: Prince of Thieves, and as Colonel Brandon in Ang Lee's 1995 film Sense and Sensibility. More recently he played Judge Turpin in Tim Burton's Sweeney Todd: The Demon Barber of Fleet Street and voiced the Caterpillar in Tim Burton's Alice in Wonderland.\n\nDescription above from the Wikipedia article Alan Rickman, licensed under CC-BY-SA, full list of contributors on Wikipedia.",
       "birthday": "1946-02-21",
       "deathday": "2016-01-14",
       "gender": 2,
       "homepage": null,
       "id": 4566,
       "imdb_id": "nm0000614",
       "known_for_department": "Acting",
       "name": "Alan Rickman",
       "place_of_birth": "Hammersmith, London, UK",
       "popularity": 6.373,
       "profile_path": "/7tADZs4ILE93oJ5pAh6mKQFEq2m.jpg"
      },
      "text/plain": [
       "<IPython.core.display.JSON object>"
      ]
     },
     "execution_count": 10,
     "metadata": {
      "application/json": {
       "expanded": false,
       "root": "root"
      }
     },
     "output_type": "execute_result"
    }
   ],
   "source": [
    "JSON(fav_actor)"
   ]
  },
  {
   "cell_type": "code",
   "execution_count": 11,
   "metadata": {},
   "outputs": [],
   "source": [
    "name = fav_actor['name']\n",
    "dob = fav_actor['birthday']\n",
    "pob = fav_actor['place_of_birth']\n",
    "bio = fav_actor['biography']"
   ]
  },
  {
   "cell_type": "code",
   "execution_count": 12,
   "metadata": {},
   "outputs": [
    {
     "name": "stdout",
     "output_type": "stream",
     "text": [
      "Name: Alan Rickman\n",
      "Date of birth: 1946-02-21\n",
      "Place of birth: Hammersmith, London, UK\n",
      "Biography length: 881 characters, 145 words\n"
     ]
    }
   ],
   "source": [
    "print(f'Name: {name}')\n",
    "print(f'Date of birth: {dob}')\n",
    "print(f'Place of birth: {pob}')\n",
    "print(f'Biography length: {len(bio)} characters, {len(bio.split())} words')"
   ]
  },
  {
   "cell_type": "markdown",
   "metadata": {},
   "source": [
    "## Task\n",
    "Search for you favorite tv-show and return the information about it:\n",
    "- name\n",
    "- first air date\n",
    "- number of seasons\n",
    "- number of episodes\n",
    "- genres"
   ]
  },
  {
   "cell_type": "code",
   "execution_count": 13,
   "metadata": {},
   "outputs": [
    {
     "name": "stdout",
     "output_type": "stream",
     "text": [
      "Request status: 200\n"
     ]
    }
   ],
   "source": [
    "fav_show = TMDBsearch('The Simpsons', 'tv')"
   ]
  },
  {
   "cell_type": "code",
   "execution_count": 14,
   "metadata": {},
   "outputs": [
    {
     "data": {
      "application/json": {
       "backdrop_path": "/hpU2cHC9tk90hswCFEpf5AtbqoL.jpg",
       "created_by": [
        {
         "credit_id": "5256bdc619c2956ff6001be4",
         "gender": 2,
         "id": 5741,
         "name": "Matt Groening",
         "profile_path": "/2HmAw3AN93DGESPi3ibLZgBa8cT.jpg"
        }
       ],
       "episode_run_time": [
        22
       ],
       "first_air_date": "1989-12-17",
       "genres": [
        {
         "id": 10751,
         "name": "Family"
        },
        {
         "id": 16,
         "name": "Animation"
        },
        {
         "id": 35,
         "name": "Comedy"
        },
        {
         "id": 18,
         "name": "Drama"
        }
       ],
       "homepage": "https://www.fox.com/the-simpsons/",
       "id": 456,
       "in_production": true,
       "languages": [
        "en"
       ],
       "last_air_date": "2021-05-23",
       "last_episode_to_air": {
        "air_date": "2021-05-23",
        "episode_number": 22,
        "id": 2804134,
        "name": "The Last Barfighter",
        "overview": "After Moe breaks their most sacred rule, a secret society of bartenders seeks ultimate vengeance on Homer and his friends.",
        "production_code": "QABF15",
        "season_number": 32,
        "still_path": "/a9ymN3dyP5diL7UUe4edKQvx8hU.jpg",
        "vote_average": 0,
        "vote_count": 0
       },
       "name": "The Simpsons",
       "networks": [
        {
         "id": 19,
         "logo_path": "/1DSpHrWyOORkL9N2QHX7Adt31mQ.png",
         "name": "FOX",
         "origin_country": "US"
        }
       ],
       "next_episode_to_air": {
        "air_date": "2021-09-26",
        "episode_number": 1,
        "id": 2914234,
        "name": "The Star Of Backstage",
        "overview": "",
        "production_code": "QABF17",
        "season_number": 33,
        "still_path": null,
        "vote_average": 0,
        "vote_count": 0
       },
       "number_of_episodes": 707,
       "number_of_seasons": 33,
       "origin_country": [
        "US"
       ],
       "original_language": "en",
       "original_name": "The Simpsons",
       "overview": "Set in Springfield, the average American town, the show focuses on the antics and everyday adventures of the Simpson family; Homer, Marge, Bart, Lisa and Maggie, as well as a virtual cast of thousands. Since the beginning, the series has been a pop culture icon, attracting hundreds of celebrities to guest star. The show has also made name for itself in its fearless satirical take on politics, media and American life in general.",
       "popularity": 409.993,
       "poster_path": "/zLudbPueg8CxGhMS2tyDh3p0TdK.jpg",
       "production_companies": [
        {
         "id": 29500,
         "logo_path": "/a3ltwX7b1opYeG7MxaxxswDmkeg.png",
         "name": "The Curiosity Company",
         "origin_country": "US"
        },
        {
         "id": 18,
         "logo_path": "/uqhagSwM7NAkQWVCQhKTyoqF8XH.png",
         "name": "Gracie Films",
         "origin_country": "US"
        },
        {
         "id": 1556,
         "logo_path": "/31h94rG9hzjprXoYNy3L1ErUya2.png",
         "name": "20th Century Fox Television",
         "origin_country": "US"
        }
       ],
       "production_countries": [
        {
         "iso_3166_1": "US",
         "name": "United States of America"
        }
       ],
       "seasons": [
        {
         "air_date": "1987-04-18",
         "episode_count": 80,
         "id": 3581,
         "name": "Specials",
         "overview": "",
         "poster_path": "/25mRzssSSndEr1fklyMkO1NlwgS.jpg",
         "season_number": 0
        },
        {
         "air_date": "1989-12-17",
         "episode_count": 13,
         "id": 3582,
         "name": "Season 1",
         "overview": "",
         "poster_path": "/488IWIcFsTFMfmVc7Kwv0Y1bHMt.jpg",
         "season_number": 1
        },
        {
         "air_date": "1990-10-11",
         "episode_count": 22,
         "id": 3583,
         "name": "Season 2",
         "overview": "The Simpsons' second season originally aired between October 11, 1990 and May 9, 1991, and contained 22 episodes, beginning with \"Bart Gets an F\". Another episode, \"Blood Feud\" aired during the summer after the official season finale. The executive producers for the second production season were Matt Groening, James L. Brooks, and Sam Simon, who had also been EPs for the previous season. The DVD box set was released on August 6, 2002 in Region 1, July 8, 2002 in Region 2 and in September, 2002 in Region 4. The episode \"Homer vs. Lisa and the 8th Commandment\" won the Primetime Emmy Award for Outstanding Animated Program, and was also nominated in the \"Outstanding Sound Mixing for a Comedy Series or a Special\" category.",
         "poster_path": "/7WWwpAgqUxVnRHkYUHObsyVyBz0.jpg",
         "season_number": 2
        },
        {
         "air_date": "1991-09-19",
         "episode_count": 24,
         "id": 3584,
         "name": "Season 3",
         "overview": "The Simpsons' third season originally aired on the Fox network between September 19, 1991 and May 7, 1992. The showrunners for the third production season were Al Jean and Mike Reiss who executive produced 22 episodes for the season, while two other episodes were produced by James L. Brooks, Matt Groening, and Sam Simon. An additional episode, \"Brother, Can You Spare Two Dimes?\", aired on August 27, 1992 after the official end of the third season and is included on the Season 3 DVD set. Season three won six Primetime Emmy Awards for \"Outstanding Voice-Over Performance\" and also received a nomination for \"Outstanding Animated Program\" for the episode \"Radio Bart\". The complete season was released on DVD in Region 1 on August 26, 2003, Region 2 on October 6, 2003, and in Region 4 on October 22, 2003.",
         "poster_path": "/PQKmDO7aUftceeyDh06to2mEq7.jpg",
         "season_number": 3
        },
        {
         "air_date": "1992-09-24",
         "episode_count": 22,
         "id": 3585,
         "name": "Season 4",
         "overview": "The Simpsons' fourth season originally aired on the Fox network between September 24, 1992 and May 13, 1993, beginning with \"Kamp Krusty.\" The showrunners for the fourth production season were Al Jean and Mike Reiss. The aired season contained two episodes which were hold-over episodes from season three, which Jean and Reiss also ran. Following the end of the production of the season, Jean, Reiss and most of the original writing staff left the show. The season was nominated for two Primetime Emmy Awards and Dan Castellaneta would win one for his performance as Homer in \"Mr. Plow\". The fourth season was released on DVD in Region 1 on June 15, 2004, Region 2 on August 2, 2004 and in Region 4 on August 25, 2004.",
         "poster_path": "/7gvC7Ii2Tb7ymzF9PGE02lQ04Ko.jpg",
         "season_number": 4
        },
        {
         "air_date": "1993-09-30",
         "episode_count": 22,
         "id": 3586,
         "name": "Season 5",
         "overview": "The Simpsons' fifth season originally aired on the Fox network between September 30, 1993 and May 19, 1994. The showrunner for the fifth production season was David Mirkin who executive produced 20 episodes. Al Jean and Mike Reiss executive produced the remaining two, which were both hold overs that were produced for the previous season. The season contains some of the series' most acclaimed episodes, including \"Cape Feare\" and \"Rosebud\". It also includes the 100th episode, \"Sweet Seymour Skinner's Baadasssss Song\". The season was nominated for two Primetime Emmy Awards and won an Annie Award for Best Animated Television Program as well as an Environmental Media Award and a Genesis Award. The DVD box set was released in Region 1 on December 21, 2004, Region 2 on March 21, 2005, and Region 4 on March 23, 2005.",
         "poster_path": "/ztD5qDtGXkjdfRrno9Emnn4UHVG.jpg",
         "season_number": 5
        },
        {
         "air_date": "1994-09-04",
         "episode_count": 25,
         "id": 3587,
         "name": "Season 6",
         "overview": "",
         "poster_path": "/2gnDoTCgBwLqgJ1JHw8Ssxlfs5y.jpg",
         "season_number": 6
        },
        {
         "air_date": "1995-09-17",
         "episode_count": 25,
         "id": 3588,
         "name": "Season 7",
         "overview": "The Simpsons' seventh season originally aired on the Fox network between September 17, 1995 and May 19, 1996. The show runners for the seventh production season were Bill Oakley and Josh Weinstein who would executive produce 21 episodes this season. David Mirkin executive produced the remaining four, including two hold overs that were produced for the previous season. The season was nominated for two Primetime Emmy Awards, including Outstanding Animated Program and won an Annie Award for Best Animated Television Program. The DVD box set was released in Region 1 December 13, 2005, Region 2 January 30, 2006 and Region 4 on March 22, 2006. The set was released in two different forms: a Marge-shaped box and also a standard rectangular-shaped box in which the theme is a movie premiere.",
         "poster_path": "/tLVFgS1kxkqmwakZRE4kTk6BiAR.jpg",
         "season_number": 7
        },
        {
         "air_date": "1996-10-27",
         "episode_count": 25,
         "id": 3589,
         "name": "Season 8",
         "overview": "The Simpsons' eighth season originally aired between October 27, 1996 and May 18, 1997, beginning with \"Treehouse of Horror VII\". The showrunners for the eighth production season were Bill Oakley and Josh Weinstein. The aired season contained two episodes which were hold-over episodes from season seven, which Oakley and Weinstein also ran. It also contained two episodes for which Al Jean and Mike Reiss were the show runners.\n\nSeason eight won multiple awards, including two Emmy Awards: \"Homer's Phobia\" won for Outstanding Animated Program in 1997, and Alf Clausen and Ken Keeler won for \"Outstanding Individual Achievement in Music and Lyrics\" with the song \"We Put The Spring In Springfield\" from the episode \"Bart After Dark\". Clausen also received an Emmy nomination for \"Outstanding Music Direction\" for \"Simpsoncalifragilisticexpialacious\". \"Brother from Another Series\" was nominated for the Emmy for \"Sound Mixing For a Comedy Series or a Special\". For \"Homer's Phobia\", Mike Anderson won the Annie Award for Best Individual Achievement: Directing in a TV Production, and the WAC Winner Best Director for Primetime Series at the 1998 World Animation Celebration. Gay & Lesbian Alliance Against Defamation awarded the episode the GLAAD Media Award for \"Outstanding TV – Individual Episode\".",
         "poster_path": "/e3ZzhSKyBCKf3P09yu9cfHCFjGr.jpg",
         "season_number": 8
        },
        {
         "air_date": "1997-09-21",
         "episode_count": 25,
         "id": 3590,
         "name": "Season 9",
         "overview": "The Simpsons' ninth season originally aired between September 1997 and May 1998, beginning on Sunday, September 21, 1997 with \"The City of New York vs. Homer Simpson\". The showrunner for the ninth production season was Mike Scully. The aired season contained three episodes which were hold-over episodes from season eight, which Bill Oakley and Josh Weinstein ran. It also contained two episodes which were run by David Mirkin, and another two hold-over episodes from season seven which were run by Al Jean and Mike Reiss.\n\nSeason nine won three Emmy Awards: \"Trash of the Titans\" for Primetime Emmy Award for Outstanding Animated Program in 1998, Hank Azaria picked up \"Outstanding Voice-Over Performance\" for the voice of Apu Nahasapeemapetilon, and Alf Clausen and Ken Keeler picking up the \"Outstanding Music and Lyrics\" award. Clausen was also nominated for \"Outstanding Music Direction\" and \"Outstanding Music Composition for a Series\" for \"Treehouse of Horror VIII\". Season nine was also nominated for a \"Best Network Television Series\" award by the Saturn Awards and \"Best Sound Editing\" for a Golden Reel Award.",
         "poster_path": "/hGUYdXuF051sEzg7BzenYcxfQBh.jpg",
         "season_number": 9
        },
        {
         "air_date": "1998-08-23",
         "episode_count": 23,
         "id": 3591,
         "name": "Season 10",
         "overview": "The tenth season of the animated television series The Simpsons was originally broadcast on the Fox network in the United States between August 23, 1998 and May 16, 1999. It contains twenty-three episodes, starting with \"Lard of the Dance\". The Simpsons is a satire of a middle class American lifestyle epitomized by its family of the same name, which consists of Homer, Marge, Bart, Lisa and Maggie. Set in the fictional city of Springfield, the show lampoons American culture, society, television, and many aspects of the human condition.\n\nThe showrunner for the tenth season was Mike Scully. Before production began, a salary dispute between the main cast members of The Simpsons and Fox arose. However, it was soon settled and the actors' salaries were raised to $125,000 per episode. In addition to the large Simpsons cast, many guest stars appeared in season ten, including Phil Hartman in his last appearance before his death.\n\nThe season, which won the Annie Award for \"Outstanding Achievement in an Animated Television Program\", has been cited by several critics as the beginning of the series' decline in quality. It ranked twenty-fifth in the season ratings with an average of 13.5 million viewers per episode. The tenth season DVD boxset was released in the United States and Canada on August 7, 2007. It is available in two different packagings, both featuring Bart.",
         "poster_path": "/jDbUCyqgcpLmAmaPBrlqOpvDWLM.jpg",
         "season_number": 10
        },
        {
         "air_date": "1999-09-26",
         "episode_count": 22,
         "id": 3592,
         "name": "Season 11",
         "overview": "The Simpsons' 11th season originally aired between September 1999 and May 2000, beginning on Sunday, September 26, 1999, with \"Beyond Blunderdome\". The showrunner for the 11th production season was Mike Scully. The season contained four hold-over episodes from the season 10 production line.",
         "poster_path": "/swM9G5ojulvLYIF721Y6swoJQGh.jpg",
         "season_number": 11
        },
        {
         "air_date": "2000-11-01",
         "episode_count": 21,
         "id": 3593,
         "name": "Season 12",
         "overview": "The Simpsons' 12th season began on Wednesday, November 1, 2000 with \"Treehouse of Horror XI\". The season contains three hold over episodes from the season 11 production line. The show runner for the twelfth production was Mike Scully. The season features three episodes that were produced for the eleventh season which was also run by Scully. The season won and was nominated for numerous awards including two Primetime Emmy Awards wins and an Annie Award.",
         "poster_path": "/xPRZmUukPXqlSZfGMaEI0GyVhjW.jpg",
         "season_number": 12
        },
        {
         "air_date": "2001-11-06",
         "episode_count": 22,
         "id": 3594,
         "name": "Season 13",
         "overview": "The Simpsons' thirteenth season originally aired on the Fox network between November 6, 2001 and May 22, 2002 and consists of 22 episodes. The show runner for the thirteenth production season was Al Jean who executive-produced 17 episodes. Mike Scully executive-produced the remaining five, which were all hold-overs that were produced for the previous season. The Simpsons is an animated series about a working-class family, which consists of Homer, Marge, Bart, Lisa, and Maggie. The show is set in the fictional city of Springfield, and lampoons American culture, society, television and many aspects of the human condition.\n\nThe season won an Annie Award for Best Animated Television Production, and was nominated for several other awards, including two Primetime Emmy Awards, three Writers Guild of America Awards, and an Environmental Media Award. The Simpsons ranked 30th in the season ratings with an average viewership of 12.4 million viewers. It was the second highest rated show on Fox after Malcolm in the Middle. The DVD boxset was released in the United States and Canada on August 24, 2010, eight years after it had completed broadcast on television.",
         "poster_path": "/cn7aESAxPA3o1OLJbrM7T0ETYIE.jpg",
         "season_number": 13
        },
        {
         "air_date": "2002-11-03",
         "episode_count": 22,
         "id": 3595,
         "name": "Season 14",
         "overview": "The fourteenth season of the animated television series The Simpsons was originally broadcast on the Fox network in the United States between November 3, 2002 and May 18, 2003. The show runner for the fourteenth production season was Al Jean, who executive produced 21 of 22 episodes. The other episode, \"How I Spent My Strummer Vacation\", was run by Mike Scully. The season contains five hold-overs from the previous season's production run. The fourteenth season won two Primetime Emmy Awards, including Outstanding Animated Program, four Annie Awards and a Writers Guild of America Award. On December 6, 2011, it was released on DVD and Blu-ray in North America.",
         "poster_path": "/nwZc3mBBCGPRqIUSGGL29sTzutx.jpg",
         "season_number": 14
        },
        {
         "air_date": "2003-11-02",
         "episode_count": 22,
         "id": 3596,
         "name": "Season 15",
         "overview": "The Simpsons' 15th season began on Sunday, November 2, 2003, with \"Treehouse of Horror XIV\". The season contains five hold-over episodes from the season 14 production line. The most watched episode had 16.2 million viewers and the least watched had 6.2 million viewers.",
         "poster_path": "/dZiUfyxBAs8NizSjaJa8VeFNizj.jpg",
         "season_number": 15
        },
        {
         "air_date": "2004-11-07",
         "episode_count": 21,
         "id": 3597,
         "name": "Season 16",
         "overview": "The Simpsons' 16th season began on Sunday, November 7, 2004 and contained 21 episodes, beginning with Treehouse of Horror XV. The season contains six hold-over episodes from the season 15 production line.",
         "poster_path": "/dpETtKG5fGAJJZYgPD0m3kQ99WQ.jpg",
         "season_number": 16
        },
        {
         "air_date": "2005-09-11",
         "episode_count": 22,
         "id": 3598,
         "name": "Season 17",
         "overview": "The Simpsons' seventeenth season originally aired between September 2005 and May 2006, beginning on Sunday, September 11, 2005. It broke Fox's tradition of pushing its shows' season premieres back to November to accommodate the Major League Baseball games airing on the network during September and October of each year.",
         "poster_path": "/qRNdd8RC6gfFfpw9nLteLkxfgmb.jpg",
         "season_number": 17
        },
        {
         "air_date": "2006-09-10",
         "episode_count": 22,
         "id": 3599,
         "name": "Season 18",
         "overview": "The Simpsons' 18th season aired from September 10, 2006 to May 20, 2007. The season contained seven hold-over episodes from the season 17 production line. Al Jean served as the Showrunner, a position he has held since the thirteenth season.\n\nThe season finale, \"You Kent Always Say What You Want\", was the series' 400th episode. Additionally, the Simpsons franchise celebrated its 20th anniversary, as it has been on the air since April 1987, beginning with shorts on The Tracey Ullman Show.\n\nSeason 18 included guest appearances by Metallica, Tom Wolfe, Gore Vidal, Michael Chabon, Jonathan Franzen, Fran Drescher, The White Stripes, Kiefer Sutherland, Mary Lynn Rajskub, Richard Lewis, Phil McGraw, Elvis Stojko, Natalie Portman, Jon Lovitz, Betty White, Eric Idle, Sir Mix-a-Lot, Stephen Sondheim, Cristiano Ronaldo, Meg Ryan, Andy Dick, Peter Bogdanovich, James Patterson and others.",
         "poster_path": "/6FRSkCFEwS6Y5AGMXCXeWEMgEqb.jpg",
         "season_number": 18
        },
        {
         "air_date": "2007-09-23",
         "episode_count": 20,
         "id": 3600,
         "name": "Season 19",
         "overview": "The Simpsons' nineteenth season originally aired on the Fox network between September 23, 2007 and May 18, 2008.",
         "poster_path": "/8SkD4jvPIPkugszVeWoAa0gLxW.jpg",
         "season_number": 19
        },
        {
         "air_date": "2008-09-28",
         "episode_count": 21,
         "id": 3601,
         "name": "Season 20",
         "overview": "The Simpsons' twentieth season aired on Fox from September 28, 2008 to May 17, 2009. With this season, the show tied Gunsmoke as the longest running American primetime television series in terms of total number of seasons. The season was released on BD January 12, 2010, making this the first season released on BD. It was released on DVD in Region 1 on January 12, 2010, and in Region 4 on January 20, 2010. The season was only released on DVD in Region 2 in a few areas.",
         "poster_path": "/or7v8DhoSXX4DoDPXqFg0qT6RSR.jpg",
         "season_number": 20
        },
        {
         "air_date": "2009-09-27",
         "episode_count": 23,
         "id": 3602,
         "name": "Season 21",
         "overview": "The Simpsons' twenty-first season aired on Fox from September 27, 2009 to May 23, 2010. It was the first of two seasons that the show was renewed for by Fox, and also the first season of the show to air entirely in high definition.\n\nWith this season, The Simpsons established itself as the longest-running American primetime television series surpassing Gunsmoke.\n\nThe season received mainly positive reviews from critics, with many praising \"The Squirt and the Whale\", \"To Surveil with Love\" and \"The Bob Next Door\". The show moved up 16 positions in the Nielsen ratings from the previous season and received numerous award nominations, winning two - an Emmy Award for Anne Hathaway for her voicing in \"Once Upon a Time in Springfield\", and an Annie Award for \"Treehouse of Horror XX\".",
         "poster_path": "/zw4BQOMFlM8cu1beAUJhY6Rk76T.jpg",
         "season_number": 21
        },
        {
         "air_date": "2010-09-26",
         "episode_count": 22,
         "id": 3603,
         "name": "Season 22",
         "overview": "The Simpsons' twenty-second season began airing on Fox on September 26, 2010 and ended on May 22, 2011. The Simpsons was renewed for at least two additional seasons during the twentieth season leading up to this season. The cast is currently signed through the 25th season. On November 11, 2010, the series was renewed for a 23rd season by Fox with 22 episodes.",
         "poster_path": "/fOX0HS4Tn8w21hwhOa8YrAakv7k.jpg",
         "season_number": 22
        },
        {
         "air_date": "2011-09-25",
         "episode_count": 22,
         "id": 3604,
         "name": "Season 23",
         "overview": "The Simpsons' twenty-third season began airing on Fox on September 25, 2011 and ended on May 20, 2012. The show's 500th episode, \"At Long Last Leave\", aired on February 19, 2012.",
         "poster_path": "/6SKdh36MCY9fzjen19mIBiZI8p6.jpg",
         "season_number": 23
        },
        {
         "air_date": "2012-09-30",
         "episode_count": 22,
         "id": 3605,
         "name": "Season 24",
         "overview": "The Simpsons' twenty-fourth season began airing on Fox on September 30, 2012 and concluded on May 19, 2013.",
         "poster_path": "/kejxf5JJoIJR4jygJQQhuutK7el.jpg",
         "season_number": 24
        },
        {
         "air_date": "2013-09-29",
         "episode_count": 22,
         "id": 3606,
         "name": "Season 25",
         "overview": "The Simpsons' twenty-fifth season began airing on Fox on September 29, 2013.\n\nIn this season, Homer sells his Mapple stock to buy a bowling ball, Marge blames herself and KISS for Bart's rebellious streak, Lisa becomes a cheerleader for Springfield's football team, and Homer delivers a baby. Guest stars for this season will include Christiane Amanpour, Will Arnett, Stan Lee, Rachel Maddow, Elisabeth Moss, Joe Namath, Gordon Ramsay, Aaron Sorkin, Eva Longoria, Daniel Radcliffe, Kristen Wiig, Billy West, Katey Sagal, John DiMaggio, Phil LaMarr, Zach Galifianakis, Harlan Ellison, Anderson Cooper, Maurice LaMarche, and Judd Apatow. This is Al Jean's 13th consecutive season as showrunner and 15th overall. Matt Groening, James L. Brooks, Matt Selman, and John Frink serve as executive producers.",
         "poster_path": "/sBYXSBgzVwyUXG4QncOv9DoSp5E.jpg",
         "season_number": 25
        },
        {
         "air_date": "2014-09-28",
         "episode_count": 22,
         "id": 62103,
         "name": "Season 26",
         "overview": "In this season, Homer and Bart attempt to solve some father/son conflicts, Marge opens a sandwich franchise, the Simpsons meet their former selves, Bart schemes to bring down his new fourth grade teacher, Homer has a mid-life crisis, and the cast of Futurama make an appearance in Springfield.",
         "poster_path": "/qoj96WCeePxkC0qkV391T7a6iom.jpg",
         "season_number": 26
        },
        {
         "air_date": "2015-09-27",
         "episode_count": 22,
         "id": 68067,
         "name": "Season 27",
         "overview": "The twenty-seventh season of The Simpsons began airing on September 27, 2015 with the episode \"Every Man's Dreams\". It ended on May 22 2016 with the episode \"Orange is the New Yellow (A parody of Netflix show, Orange is the New Black)\"",
         "poster_path": "/AoOVTGxfGyfRpmNJhonfqPeTiY8.jpg",
         "season_number": 27
        },
        {
         "air_date": "2016-09-25",
         "episode_count": 22,
         "id": 80361,
         "name": "Season 28",
         "overview": "The twenty-eighth season began airing on September 25, 2016 and concluded on May 21, 2017. Treehouse Of Horror XXVII was the 600th episode of the series. The show also celebrated its 30th anniversary.",
         "poster_path": "/Asrn5wh8mHVm8a1ZsIWfwBX00RM.jpg",
         "season_number": 28
        },
        {
         "air_date": "2017-10-01",
         "episode_count": 21,
         "id": 91255,
         "name": "Season 29",
         "overview": "The twenty-ninth season of The Simpsons began airing on October 1, 2017 and concluded on May 20, 2018",
         "poster_path": "/dyAmKsbCfZAj5lSnWpYiMazHZ4K.jpg",
         "season_number": 29
        },
        {
         "air_date": "2018-09-30",
         "episode_count": 23,
         "id": 110088,
         "name": "Season 30",
         "overview": "The thirtieth season of The Simpsons began airing on September 30, 2018 and concluded on May 12, 2019",
         "poster_path": "/l18xQsO27KFJwsj35JaAsG95dN7.jpg",
         "season_number": 30
        },
        {
         "air_date": "2019-09-29",
         "episode_count": 22,
         "id": 131143,
         "name": "Season 31",
         "overview": "The thirty-first season Of The Simpsons began airing on September 29, 2019 and concluded on May 17, 2020. Treehouse of Horror XXX was the 666th episode.",
         "poster_path": "/yT47p0XMkefgzOBQ2G3j31bK41x.jpg",
         "season_number": 31
        },
        {
         "air_date": "2020-09-27",
         "episode_count": 22,
         "id": 156684,
         "name": "Season 32",
         "overview": "The thirty-second season of The Simpsons began airing on September 27, 2020 and concluded on May 23, 2021. This season includes the show's 700th episode, Manger Things.",
         "poster_path": "/ifvEta1mmPGLu3E6lFnPSJAyBhh.jpg",
         "season_number": 32
        },
        {
         "air_date": "2021-09-26",
         "episode_count": 1,
         "id": 184349,
         "name": "Season 33",
         "overview": "",
         "poster_path": null,
         "season_number": 33
        }
       ],
       "spoken_languages": [
        {
         "english_name": "English",
         "iso_639_1": "en",
         "name": "English"
        }
       ],
       "status": "Returning Series",
       "tagline": "On your marks, get set, d'oh!",
       "type": "Scripted",
       "vote_average": 7.9,
       "vote_count": 6815
      },
      "text/plain": [
       "<IPython.core.display.JSON object>"
      ]
     },
     "execution_count": 14,
     "metadata": {
      "application/json": {
       "expanded": false,
       "root": "root"
      }
     },
     "output_type": "execute_result"
    }
   ],
   "source": [
    "JSON(fav_show)"
   ]
  },
  {
   "cell_type": "code",
   "execution_count": 15,
   "metadata": {},
   "outputs": [],
   "source": [
    "name = fav_show['name']\n",
    "firstairdate = fav_show['first_air_date']\n",
    "numseasons = fav_show['number_of_seasons']\n",
    "numepisodes = fav_show['number_of_episodes']\n",
    "genres = []\n",
    "for genre in fav_show['genres']:\n",
    "    genres.append(genre['name']) "
   ]
  },
  {
   "cell_type": "code",
   "execution_count": 16,
   "metadata": {},
   "outputs": [
    {
     "name": "stdout",
     "output_type": "stream",
     "text": [
      "Name: The Simpsons\n",
      "First air date: 1989-12-17\n",
      "Number of seasons: 33\n",
      "Number of episodes: 707\n",
      "Genres:\n",
      "        Family\n",
      "        Animation\n",
      "        Comedy\n",
      "        Drama\n"
     ]
    }
   ],
   "source": [
    "print(f'Name: {name}')\n",
    "print(f'First air date: {firstairdate}')\n",
    "print(f'Number of seasons: {numseasons}')\n",
    "print(f'Number of episodes: {numepisodes}')\n",
    "print('Genres:')\n",
    "for x in genres:\n",
    "    print(f'        {x}')"
   ]
  },
  {
   "cell_type": "markdown",
   "metadata": {},
   "source": [
    "## Task \n",
    "Find top 5 trending:\n",
    "- movies\n",
    "- tv-shows\n",
    "- people"
   ]
  },
  {
   "cell_type": "code",
   "execution_count": 17,
   "metadata": {},
   "outputs": [],
   "source": [
    "def TMDBtrend(searchtype):\n",
    "    base = \"https://api.themoviedb.org/3\"\n",
    "    url = f\"/trending/\" #search types can be movie, person, tv\n",
    "    api_key = os.environ[\"TMDB_API_KEY\"]\n",
    "    params = f'{searchtype}/day?api_key={api_key}' \n",
    "    res = re.get(base+url+params)\n",
    "    response = res.json()\n",
    "    #return response\n",
    "    x = 0\n",
    "    print(f'Top 5 trending {searchtype}s:')\n",
    "    while x < 5:\n",
    "        if searchtype == 'movie':\n",
    "            print(response['results'][x]['title'])\n",
    "        elif searchtype == 'tv' or 'person':\n",
    "            print(response['results'][x]['name'])\n",
    "        x += 1"
   ]
  },
  {
   "cell_type": "code",
   "execution_count": 18,
   "metadata": {},
   "outputs": [
    {
     "name": "stdout",
     "output_type": "stream",
     "text": [
      "Top 5 trending movies:\n",
      "Trollhunters: Rise of the Titans\n",
      "Space Jam: A New Legacy\n",
      "Black Widow\n",
      "The Forever Purge\n",
      "A Quiet Place Part II\n"
     ]
    }
   ],
   "source": [
    "TMDBtrend('movie')"
   ]
  },
  {
   "cell_type": "code",
   "execution_count": 19,
   "metadata": {},
   "outputs": [
    {
     "name": "stdout",
     "output_type": "stream",
     "text": [
      "Top 5 trending tvs:\n",
      "Loki\n",
      "Turner & Hooch\n",
      "American Horror Stories\n",
      "Monsters at Work\n",
      "Rick and Morty\n"
     ]
    }
   ],
   "source": [
    "TMDBtrend('tv')"
   ]
  },
  {
   "cell_type": "code",
   "execution_count": 20,
   "metadata": {},
   "outputs": [
    {
     "name": "stdout",
     "output_type": "stream",
     "text": [
      "Top 5 trending persons:\n",
      "Ian Fraser\n",
      "Elliot Lawrence\n",
      "Bill Conti\n",
      "Kim Messina\n",
      "Alf Clausen\n"
     ]
    }
   ],
   "source": [
    "TMDBtrend('person')"
   ]
  },
  {
   "cell_type": "code",
   "execution_count": null,
   "metadata": {},
   "outputs": [],
   "source": []
  }
 ],
 "metadata": {
  "kernelspec": {
   "display_name": "Python 3",
   "language": "python",
   "name": "python3"
  },
  "language_info": {
   "codemirror_mode": {
    "name": "ipython",
    "version": 3
   },
   "file_extension": ".py",
   "mimetype": "text/x-python",
   "name": "python",
   "nbconvert_exporter": "python",
   "pygments_lexer": "ipython3",
   "version": "3.8.8"
  }
 },
 "nbformat": 4,
 "nbformat_minor": 4
}
