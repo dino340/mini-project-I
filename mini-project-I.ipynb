{
 "cells": [
  {
   "cell_type": "markdown",
   "metadata": {},
   "source": [
    "# Mini-Project I\n",
    "During this project, we will practice handling of complex lists and dictionaries in Python. Plus, we will learn how to work with API documentation. Don't be afraid to search for the information in the [**documentation**](https://api.tfl.gov.uk/swagger/ui/index.html?url=/swagger/docs/v1#!/AccidentStats/AccidentStats_Get).\n",
    "\n",
    "Let's go to the tasks, we have some parsing to do :)!!"
   ]
  },
  {
   "cell_type": "code",
   "execution_count": null,
   "metadata": {},
   "outputs": [],
   "source": []
  },
  {
   "cell_type": "code",
   "execution_count": 1,
   "metadata": {},
   "outputs": [],
   "source": [
    "# import packages we need (remember what packages we used yesterday during the API session)\n",
    "import os\n",
    "import requests\n",
    "import json"
   ]
  },
  {
   "cell_type": "code",
   "execution_count": null,
   "metadata": {},
   "outputs": [],
   "source": []
  },
  {
   "cell_type": "code",
   "execution_count": null,
   "metadata": {},
   "outputs": [],
   "source": []
  },
  {
   "cell_type": "markdown",
   "metadata": {},
   "source": [
    "## Demo"
   ]
  },
  {
   "cell_type": "code",
   "execution_count": 2,
   "metadata": {},
   "outputs": [],
   "source": [
    "# don't forget package os\n",
    "app_id = os.environ[\"TRANSPORT_PRIMARY_KEY\"]\n",
    "app_key = os.environ[\"TRANSPORT_SECONDARY_KEY\"]\n",
    "url_append = f'?app_id={app_id}&app_key={app_key}' "
   ]
  },
  {
   "cell_type": "code",
   "execution_count": 3,
   "metadata": {},
   "outputs": [
    {
     "name": "stdout",
     "output_type": "stream",
     "text": [
      "?app_id=312c072603234c58bcde906e53a4224b&app_key=2f36ed3134a54bea889b619becb6fd7c\n"
     ]
    }
   ],
   "source": [
    "print(url_append)"
   ]
  },
  {
   "cell_type": "code",
   "execution_count": 4,
   "metadata": {},
   "outputs": [],
   "source": [
    "# URL\n",
    "url = \"https://api.tfl.gov.uk/AirQuality\""
   ]
  },
  {
   "cell_type": "code",
   "execution_count": 5,
   "metadata": {},
   "outputs": [],
   "source": [
    "# We send the request to the API\n",
    "# NOTE: if you don't have your APP_KEY, run this without the url_append\n",
    "res = requests.get(url+url_append)"
   ]
  },
  {
   "cell_type": "code",
   "execution_count": 6,
   "metadata": {},
   "outputs": [
    {
     "data": {
      "text/plain": [
       "200"
      ]
     },
     "execution_count": 6,
     "metadata": {},
     "output_type": "execute_result"
    }
   ],
   "source": [
    "# We can check if the request was successful\n",
    "res.status_code"
   ]
  },
  {
   "cell_type": "code",
   "execution_count": 7,
   "metadata": {},
   "outputs": [
    {
     "data": {
      "text/plain": [
       "{'$id': '1',\n",
       " '$type': 'Tfl.Api.Presentation.Entities.LondonAirForecast, Tfl.Api.Presentation.Entities',\n",
       " 'updatePeriod': 'hourly',\n",
       " 'updateFrequency': '1',\n",
       " 'forecastURL': 'http://londonair.org.uk/forecast',\n",
       " 'disclaimerText': 'This forecast is intended to provide information on expected pollution levels in areas of significant public exposure. It may not apply in very specific locations close to unusually strong or short-lived local sources of pollution.',\n",
       " 'currentForecast': [{'$id': '2',\n",
       "   '$type': 'Tfl.Api.Presentation.Entities.CurrentForecast, Tfl.Api.Presentation.Entities',\n",
       "   'forecastType': 'Current',\n",
       "   'forecastID': '32720',\n",
       "   'forecastBand': 'Moderate',\n",
       "   'forecastSummary': 'Moderate ozone air pollution forecast valid from Thursday 22 July to end of Thursday 22 July GMT',\n",
       "   'nO2Band': 'Low',\n",
       "   'o3Band': 'Moderate',\n",
       "   'pM10Band': 'Low',\n",
       "   'pM25Band': 'Low',\n",
       "   'sO2Band': 'Low',\n",
       "   'forecastText': 'An established high pressure system over the UK is giving hot temperatures and prolonged sunshine, these are often associated with the photochemical formation of ground level Ozone. &lt;br/&gt;It is possible we may reach the &#39;Moderate&#39; threshold for Ozone due to the action of strong sunshine on any pollution that accumulate.&lt;br/&gt;&lt;br/&gt;The presence of a light relatively &#39;clean&#39; northerly breeze should keep particulate levels low, but we may still see an elevation within the &#39;Low&#39; banding during the dry still day.&lt;br/&gt;&lt;br/&gt;&#39;Low&#39; levels are forecast for the following pollutants throughout the forecast period:&lt;br/&gt;&lt;br/&gt;Nitrogen Dioxide&lt;br/&gt;Sulphur Dioxide&lt;br/&gt;PM10 Particulates&lt;br/&gt;PM2.5 Particulates&lt;br/&gt;  &lt;br/&gt;'},\n",
       "  {'$id': '3',\n",
       "   '$type': 'Tfl.Api.Presentation.Entities.CurrentForecast, Tfl.Api.Presentation.Entities',\n",
       "   'forecastType': 'Future',\n",
       "   'forecastID': '32721',\n",
       "   'forecastBand': 'Low',\n",
       "   'forecastSummary': 'Low air pollution forecast valid from Friday 23 July to end of Friday 23 July GMT',\n",
       "   'nO2Band': 'Low',\n",
       "   'o3Band': 'Low',\n",
       "   'pM10Band': 'Low',\n",
       "   'pM25Band': 'Low',\n",
       "   'sO2Band': 'Low',\n",
       "   'forecastText': 'Cooler than of late, with temperatures forecast to reach the low-20s by the afternoon. &lt;br/&gt;&lt;br/&gt;Warm temperatures and prolonged summer sunshine are often associated with the photochemical formation of ground level ozone. However, Ozone is expected to remain in the &#39;Low&#39; banding as the day will be breezier and less warm, and with some thundery rain which will limit the availability of the precursor pollutants required for its formation.&lt;br/&gt;&lt;br/&gt;The northerly air flow will also give good dispersion of local emissions.  &lt;br/&gt;&lt;br/&gt;Air pollution is expected to remain &#39;Low&#39; for the following pollutants:&lt;br/&gt;&lt;br/&gt;Nitrogen Dioxide&lt;br/&gt;Ozone&lt;br/&gt;PM10 Particulate&lt;br/&gt;PM2.5 Particulate&lt;br/&gt;Sulphur Dioxide&lt;br/&gt;'}]}"
      ]
     },
     "execution_count": 7,
     "metadata": {},
     "output_type": "execute_result"
    }
   ],
   "source": [
    "# We can export the information that was returned using method .json()\n",
    "res.json()"
   ]
  },
  {
   "cell_type": "code",
   "execution_count": null,
   "metadata": {},
   "outputs": [],
   "source": []
  },
  {
   "cell_type": "markdown",
   "metadata": {},
   "source": [
    "## Task\n",
    "Parse the dictionary and print the AirQuality predictions for tomorrow"
   ]
  },
  {
   "cell_type": "code",
   "execution_count": null,
   "metadata": {},
   "outputs": [],
   "source": []
  },
  {
   "cell_type": "code",
   "execution_count": null,
   "metadata": {},
   "outputs": [],
   "source": []
  },
  {
   "cell_type": "markdown",
   "metadata": {},
   "source": [
    "## Task\n",
    "What are the different modes of transport which are operated by Transfer for London? How many of modes do they have?\n",
    "\n",
    "Print the list with different modes of transport, plus their count. Example output:\n",
    "```\n",
    "[bus, cable-car,.....]\n",
    "Number of different modes of transport is: xyz\n",
    "```\n",
    "\n",
    "We need to search the documentation for correct request."
   ]
  },
  {
   "cell_type": "code",
   "execution_count": null,
   "metadata": {},
   "outputs": [],
   "source": []
  },
  {
   "cell_type": "code",
   "execution_count": null,
   "metadata": {},
   "outputs": [],
   "source": []
  },
  {
   "cell_type": "markdown",
   "metadata": {},
   "source": [
    "## Task\n",
    "How many BikePoints in London are operated by Transfor for London? How many docks are in **all** BikePoints? There is the information for empty and full docks for each BikePoint."
   ]
  },
  {
   "cell_type": "code",
   "execution_count": null,
   "metadata": {},
   "outputs": [],
   "source": []
  },
  {
   "cell_type": "code",
   "execution_count": null,
   "metadata": {},
   "outputs": [],
   "source": []
  },
  {
   "cell_type": "markdown",
   "metadata": {},
   "source": [
    "## Task\n",
    "How many tube and bus lines are in London? Print names of all tube lines."
   ]
  },
  {
   "cell_type": "code",
   "execution_count": null,
   "metadata": {},
   "outputs": [],
   "source": []
  },
  {
   "cell_type": "code",
   "execution_count": null,
   "metadata": {},
   "outputs": [],
   "source": []
  },
  {
   "cell_type": "markdown",
   "metadata": {},
   "source": [
    "## Task\n",
    "How many station has `victoria` line?"
   ]
  },
  {
   "cell_type": "code",
   "execution_count": null,
   "metadata": {},
   "outputs": [],
   "source": []
  },
  {
   "cell_type": "code",
   "execution_count": null,
   "metadata": {},
   "outputs": [],
   "source": []
  },
  {
   "cell_type": "markdown",
   "metadata": {},
   "source": [
    "## Task\n",
    "Plan the journey from Heathrow Airport to Tower Bridge using Bus and Tube? Which way is faster? Example output:\n",
    "```\n",
    "Planned duration:\n",
    "Bus: x minutes\n",
    "Tube: y minutes\n",
    "```\n",
    "\n",
    "We need to search the documentation for correct requests and parameters we need."
   ]
  },
  {
   "cell_type": "code",
   "execution_count": null,
   "metadata": {},
   "outputs": [],
   "source": []
  },
  {
   "cell_type": "code",
   "execution_count": null,
   "metadata": {},
   "outputs": [],
   "source": []
  },
  {
   "cell_type": "code",
   "execution_count": null,
   "metadata": {},
   "outputs": [],
   "source": []
  },
  {
   "cell_type": "code",
   "execution_count": null,
   "metadata": {},
   "outputs": [],
   "source": []
  },
  {
   "cell_type": "code",
   "execution_count": null,
   "metadata": {},
   "outputs": [],
   "source": []
  }
 ],
 "metadata": {
  "kernelspec": {
   "display_name": "Python 3",
   "language": "python",
   "name": "python3"
  },
  "language_info": {
   "codemirror_mode": {
    "name": "ipython",
    "version": 3
   },
   "file_extension": ".py",
   "mimetype": "text/x-python",
   "name": "python",
   "nbconvert_exporter": "python",
   "pygments_lexer": "ipython3",
   "version": "3.8.8"
  }
 },
 "nbformat": 4,
 "nbformat_minor": 4
}
